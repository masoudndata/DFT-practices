{
  "nbformat": 4,
  "nbformat_minor": 0,
  "metadata": {
    "colab": {
      "name": "total energy calculation with DFT (Hydrogen atom).ipynb",
      "provenance": [],
      "authorship_tag": "ABX9TyN5gKifsLdTwjD6r8HXwQax"
    },
    "kernelspec": {
      "name": "python3",
      "display_name": "Python 3"
    }
  },
  "cells": [
    {
      "cell_type": "code",
      "metadata": {
        "id": "bIeV7cpHNUWO"
      },
      "source": [
        "import matplotlib.pyplot as plt\n",
        "import scipy\n",
        "import numpy as np\n",
        "import tensorflow as tf\n",
        "from __future__ import division\n",
        "import sklearn\n",
        "import torch\n",
        "import math"
      ],
      "execution_count": 15,
      "outputs": []
    },
    {
      "cell_type": "code",
      "metadata": {
        "id": "BYyJlieaNZIO"
      },
      "source": [
        "#define my space\n",
        "psi = 6\n",
        "k = 30\n",
        "k3 = k**3"
      ],
      "execution_count": 16,
      "outputs": []
    },
    {
      "cell_type": "code",
      "metadata": {
        "id": "Spi2eTPpNbqG"
      },
      "source": [
        "p = np.linspace (-5,5,k)"
      ],
      "execution_count": 17,
      "outputs": []
    },
    {
      "cell_type": "code",
      "metadata": {
        "id": "dhj_AtNSNcL-"
      },
      "source": [
        "[x,y,z] = np.meshgrid(p,p,p)"
      ],
      "execution_count": 18,
      "outputs": []
    },
    {
      "cell_type": "code",
      "metadata": {
        "id": "7u7YQ5czNfuH"
      },
      "source": [
        "h = p[2]-p[1]"
      ],
      "execution_count": 19,
      "outputs": []
    },
    {
      "cell_type": "code",
      "metadata": {
        "id": "MpR8EYJuNh5F"
      },
      "source": [
        "#squeeze it and actualy make it 1D\n",
        "lx = x.size\n",
        "ly = y.size\n",
        "lz = z.size\n",
        "x = np.reshape(x,(lx, 1))\n",
        "y = np.reshape(y,(ly, 1))\n",
        "z = np.reshape(z,(lz, 1))"
      ],
      "execution_count": 20,
      "outputs": []
    },
    {
      "cell_type": "code",
      "metadata": {
        "id": "9duM87O0Njfu"
      },
      "source": [
        "from scipy.sparse import spdiags\n",
        "from scipy.sparse import linalg"
      ],
      "execution_count": 21,
      "outputs": []
    },
    {
      "cell_type": "code",
      "metadata": {
        "colab": {
          "base_uri": "https://localhost:8080/"
        },
        "id": "5SrfSJx4NrIu",
        "outputId": "e4bf78c6-e7a6-4431-b46b-271dbc11dbd0"
      },
      "source": [
        "diag1 = [1]*10000\n",
        "diag2 = [-2]*10000\n",
        "offset = [-1,0,1]\n",
        "D = spdiags([diag1, diag2, diag1], offset, k, k).toarray()/(h**2)\n",
        "len(D.shape)"
      ],
      "execution_count": 22,
      "outputs": [
        {
          "output_type": "execute_result",
          "data": {
            "text/plain": [
              "2"
            ]
          },
          "metadata": {
            "tags": []
          },
          "execution_count": 22
        }
      ]
    },
    {
      "cell_type": "code",
      "metadata": {
        "id": "fakjM3MQNtRP"
      },
      "source": [
        "I = scipy.sparse.eye(k)"
      ],
      "execution_count": 23,
      "outputs": []
    },
    {
      "cell_type": "code",
      "metadata": {
        "id": "HXcKJTCGNvjs"
      },
      "source": [
        "from scipy.sparse import kron\n",
        "D3 = kron(kron(D,I),I) + kron(kron(I,D),I) + kron(kron(I,I),D)"
      ],
      "execution_count": 24,
      "outputs": []
    },
    {
      "cell_type": "code",
      "metadata": {
        "id": "x1HQa3zsNxyG"
      },
      "source": [
        "x1= np.power(x,2)\n",
        "y1 = np.power(y,2)\n",
        "z1 = np.power(z,2)\n",
        "F = (x1 + y1 + z1)\n",
        "R = np.sqrt(F)"
      ],
      "execution_count": 25,
      "outputs": []
    },
    {
      "cell_type": "code",
      "metadata": {
        "id": "y8bRJfy0NzuD"
      },
      "source": [
        "psi = -6.0\n",
        "Vext = psi/ R\n",
        "Vext = np.array(Vext)"
      ],
      "execution_count": 26,
      "outputs": []
    },
    {
      "cell_type": "code",
      "metadata": {
        "id": "X3MkdXHZN1hF"
      },
      "source": [
        "SP = spdiags(Vext.T,0,k3,k3)"
      ],
      "execution_count": 27,
      "outputs": []
    },
    {
      "cell_type": "code",
      "metadata": {
        "colab": {
          "base_uri": "https://localhost:8080/"
        },
        "id": "Y-zv1O8EN3VW",
        "outputId": "d3b3076f-03f7-4601-a1af-ce45d1d3d029"
      },
      "source": [
        "E = scipy.sparse.linalg.eigsh(-0.5*D3+SP,k=1) #Total energy"
        "E = E*27.21"
      ],
      "execution_count": 29,
      "outputs": [
        {
          "output_type": "execute_result",
          "data": {
             "text/plain": [
              "0.491"
            ]
          },
          "metadata": {
            "tags": []
          },
          "execution_count": 29
        }
      ]
    }
  ]
}
